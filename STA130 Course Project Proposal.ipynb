{
 "cells": [
  {
   "cell_type": "markdown",
   "id": "e5bbe31d",
   "metadata": {},
   "source": [
    "# Course Project Proposal\n",
    "## Proposed Analysis 1\n",
    "**Research Question**: \"Is there a relationship between sexual orientation and indicators of mental health across different ages?\"\n",
    "\n",
    "The variables to be explored are as follows: DEMO_identity_lgbtq to represent sexual orientation, WELLNESS_phq_score and WELLNESS_gad_score as indicators of mental health (scores for depression and anxiety, respectively), DEMO_age to represent age. These 4 variables are categorical (nominal), numerical (discrete), numerical (discrete) and numerical (continuous), respectively. They could be individually visualized with: a bar chart for the categorical and discrete variables, and a histogram for the continuous variable. They can also be visualized together with different histograms for each sexual orientation, with age on the x-axis and anxiety score (gad_score) on the y-axis. Swapping gad_score with phq_score will then help with visualization of the relationship between sexual orientation, depression and age.\n",
    "\n",
    "Possible analysis can be done visually, comparing trends of the aforementioned gad_score vs age graphs for different sexual orientations. \\nA more numerical analysis may entail calculating the difference between gad_score for different sexual orientations, for different ages (e.g. compare mean gad score of bisexuals from age 15-20 with straight people at age 15-20), and using hypothesis testing to assess the significance of this difference. An alpha significance level will be pre-determined, say 0.05. The null hypothesis would be that there is no association between sexual orientation and relationship between age and anxiety, and the alternate hypothesis would be that there is some association. If the null hypothesis is rejected, this will provide evidence towards the implication that people of different sexual orientations experience anxiety differently across their lifetimes. \n",
    "\n",
    "## Proposed Analysis 2\n",
    "**Research Question**: Did the COVID pandemic (during and post-pandemic) affect social connection?\n",
    "\n",
    "The variables to be explored are as follows: SURVEY_recorded_date indicating when responses were completed, which may be organized based on during- and post-COVID; and CONNECTION_social_num_close_relationships as an indicator of amount of social connection. Since these 2 variables are both numerical and discrete, they can be visualized with histograms and bar graphs. They can be visualized together using a heatmap (scatter plots but with density indication), or a scatter plot. Please note that to compare the timeline of the data to the timeline of the pandemic, relevant dates (like relaxation of COVID guidelines, spikes in Canadian COVID cases) will be marked on graphs to provide visual context.\n",
    "\n",
    "Possible analysis can be done with confidence intervals, hypothesis testing and linear regression. Bootstrapping can be done to get a confidence interval of the slope and intercept of the linear regression for number of close friends vs date of response. An alpha significance level will be pre-determined, say 0.05. The null hypothesis would be that there is no association between the COVID pandemic (date of response) and number of close friends, meaning the slope of the regression will be 0 (beta 0 = 0). The alternate hypothesis would be that there is an association between the two variables, meaning that the slope of the \"true\" regression is not 0. If the confidence interval for slope does not capture 0, then the null hypothesis is rejected, which suggests that the effect of the pandemic on social connection was statistically significant. \n",
    "\n",
    "## Proposed Analysis 3\n",
    "**Research Question**: Is there a relationship between sexual orientation and religion?\n",
    "\n",
    "The variables to be explored are as follows: DEMO_orientation which represents sexual orientation; CONNECTION_activities_church_p3m which represents frequency of religious events (church, synagogue, temple, etc.) over the course of the (relative) past 3 months, this variable will be used as an indicator of religious-ness. Both of these variables are categorical, although church frequency is ordinal. These 2 variables can be individually visualized using bar charts. They can be visualized together using 100% stacked bar charts, with different bins for sexual orientation and stacked % sections for church frequency (ordered from \"Daily or almost daily\" to \"Not in the past three months\"). \n",
    "\n",
    "Possible analysis can be done with chi-squared tests and hypothesis testing. An alpha significance level will be pre-determined, say 0.05. The null hypothesis would be that there is no association between churchgoings and sexual orientation. The alternate hypothesis would be that there is an association. Using the null hypothesis, expected counts for each frequency of church will be simulated, and compared to the observed counts. The chi-squared test statistic will be calculated and compared with the critical value (degrees of freedom = 12) for the specified alpha significance level. If the test statistic is greater than the critical value, the null hypothesis is rejected, which suggests that there is a statistically significant relationship between sexual orientation and religion."
   ]
  }
 ],
 "metadata": {
  "kernelspec": {
   "display_name": "Python 3 (ipykernel)",
   "language": "python",
   "name": "python3"
  },
  "language_info": {
   "codemirror_mode": {
    "name": "ipython",
    "version": 3
   },
   "file_extension": ".py",
   "mimetype": "text/x-python",
   "name": "python",
   "nbconvert_exporter": "python",
   "pygments_lexer": "ipython3",
   "version": "3.11.6"
  }
 },
 "nbformat": 4,
 "nbformat_minor": 5
}
